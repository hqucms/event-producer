{
 "cells": [
  {
   "cell_type": "code",
   "execution_count": 1,
   "metadata": {},
   "outputs": [],
   "source": [
    "template = open('TTHTo2Q_TTTo2L2Nu_M-HMASS_TuneCP5_13TeV-powheg-pythia8.py').read()"
   ]
  },
  {
   "cell_type": "code",
   "execution_count": 2,
   "metadata": {},
   "outputs": [],
   "source": [
    "for mass in range(50, 201, 10):\n",
    "    content = template.replace('_HMASS_', f'{mass}')\n",
    "    with open(f'TTHTo2Q_TTTo2L2Nu_M-{mass}_TuneCP5_13TeV-powheg-pythia8.py', 'w') as fout:\n",
    "        fout.write(content)"
   ]
  },
  {
   "cell_type": "code",
   "execution_count": null,
   "metadata": {},
   "outputs": [],
   "source": []
  }
 ],
 "metadata": {
  "kernelspec": {
   "display_name": "base",
   "language": "python",
   "name": "python3"
  },
  "language_info": {
   "codemirror_mode": {
    "name": "ipython",
    "version": 3
   },
   "file_extension": ".py",
   "mimetype": "text/x-python",
   "name": "python",
   "nbconvert_exporter": "python",
   "pygments_lexer": "ipython3",
   "version": "3.9.7"
  }
 },
 "nbformat": 4,
 "nbformat_minor": 2
}
